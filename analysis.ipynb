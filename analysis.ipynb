{
 "cells": [
  {
   "cell_type": "raw",
   "metadata": {},
   "source": [
    "---\n",
    "title: \"Algumas estadísticas\"\n",
    "format: dashboard\n",
    "---"
   ]
  },
  {
   "cell_type": "code",
   "execution_count": 12,
   "metadata": {},
   "outputs": [
    {
     "name": "stdout",
     "output_type": "stream",
     "text": [
      "Fork: guess-the-number by gabrielafaria608\n",
      "Fork: UPSK-PY-002-guess-the-number by anabfer\n",
      "Fork: UPSK-PY-002-guess-the-number by SaraAnita1\n",
      "Author: SaraAnita1, Commits: 9\n",
      "Fork: UPSK-PY-002-guess-the-number by MailaFAP\n",
      "Author: MailaFAP, Commits: 3\n",
      "Fork: UPSK-PY-002-guess-the-number by adilamarcelefreitas\n",
      "Fork: UPSK-PY-002-guess-the-number by jay-santana\n",
      "Author: jay-santana, Commits: 9\n",
      "Fork: Guess-the-number-Upsk-Python by ribeirober1208\n",
      "Estudiantes sin commits: {'gabrielafaria608', 'anabfer', 'ribeirober1208', 'adilamarcelefreitas'}\n"
     ]
    }
   ],
   "source": [
    "import time\n",
    "import requests\n",
    "\n",
    "from dotenv import load_dotenv\n",
    "import os\n",
    "\n",
    "# Load the .env file\n",
    "load_dotenv()\n",
    "\n",
    "# Access the GitHub token from an environment variable\n",
    "token = os.getenv('GITHUB_TOKEN')\n",
    "\n",
    "if not token:\n",
    "    raise Exception(\"Please set the GITHUB_TOKEN environment variable in the .env file\")\n",
    "project = {\n",
    "    'authors': set(),\n",
    "    'commit_count': 0,\n",
    "    'without_commits': set()\n",
    "}\n",
    "\n",
    "coaches = ['icarito', 'unjust']\n",
    "\n",
    "\n",
    "def get_forks(github_user, repo):\n",
    "    url = f\"https://api.github.com/repos/{github_user}/{repo}/forks\"\n",
    "    headers = {'Authorization': f'token {token}'}\n",
    "    response = requests.get(url, headers=headers)\n",
    "    forks = response.json()\n",
    "    return forks\n",
    "\n",
    "\n",
    "def get_commit_stats(github_user, repo):\n",
    "    url = f\"https://api.github.com/repos/{github_user}/{repo}/stats/contributors\"\n",
    "    headers = {'Authorization': f'token {token}'}\n",
    "    response = requests.get(url, headers=headers)\n",
    "\n",
    "    # Check if the response status is 202 (Accepted), indicating that the data is being computed\n",
    "    while response.status_code == 202:\n",
    "        time.sleep(2)  # Wait for 2 seconds before making another request\n",
    "        response = requests.get(url, headers=headers)\n",
    "\n",
    "    # If the status code is not 200 (OK), raise an error\n",
    "    if response.status_code != 200:\n",
    "        raise Exception(\n",
    "            f\"Failed to fetch commit stats: {response.status_code}\")\n",
    "\n",
    "    commit_stats = response.json()\n",
    "    return commit_stats\n",
    "\n",
    "\n",
    "all_forks = get_forks('Laboratoria', 'UPSK-PY-002-guess-the-number')\n",
    "forks = [fork for fork in all_forks if fork['owner']['login'] not in coaches]\n",
    "\n",
    "for fork in forks:\n",
    "    fork_user = fork['owner']['login']\n",
    "    fork_name = fork['name']\n",
    "    print(f\"Fork: {fork_name} by {fork_user}\")\n",
    "    student_commits = 0\n",
    "\n",
    "    commit_stats = get_commit_stats(fork_user, fork_name)\n",
    "    for stat in commit_stats:\n",
    "        author = stat['author']['login']\n",
    "        if author not in coaches:\n",
    "            project['authors'].add(author)\n",
    "            author_commits = stat['total']\n",
    "            student_commits += author_commits\n",
    "            print(f\"Author: {author}, Commits: {author_commits}\")\n",
    "    project['commit_count'] += student_commits\n",
    "    if student_commits == 0:\n",
    "        project['without_commits'].add(fork_user)\n",
    "\n",
    "print(f\"Estudiantes sin commits: {project['without_commits']}\")"
   ]
  },
  {
   "cell_type": "markdown",
   "metadata": {},
   "source": [
    "## Row"
   ]
  },
  {
   "cell_type": "code",
   "execution_count": 13,
   "metadata": {},
   "outputs": [
    {
     "data": {
      "text/plain": [
       "{'icon': 'github', 'color': 'info', 'value': 7}"
      ]
     },
     "execution_count": 13,
     "metadata": {},
     "output_type": "execute_result"
    }
   ],
   "source": [
    "#| content: valuebox\n",
    "#| title: \"Forks\"\n",
    "dict(\n",
    "    icon = \"github\",\n",
    "    color = \"info\",\n",
    "    value = len(forks),\n",
    ")"
   ]
  },
  {
   "cell_type": "code",
   "execution_count": 14,
   "metadata": {},
   "outputs": [
    {
     "data": {
      "text/plain": [
       "{'icon': 'person', 'color': 'primary', 'value': 3}"
      ]
     },
     "execution_count": 14,
     "metadata": {},
     "output_type": "execute_result"
    }
   ],
   "source": [
    "#| content: valuebox\n",
    "#| title: \"Autores de commits\"\n",
    "dict(\n",
    "    icon = \"person\",\n",
    "    color = \"primary\",\n",
    "    value = len(project['authors'])\n",
    ")"
   ]
  },
  {
   "cell_type": "code",
   "execution_count": 15,
   "metadata": {},
   "outputs": [
    {
     "data": {
      "text/plain": [
       "{'icon': 'arrow-up', 'color': 'secondary', 'value': 21}"
      ]
     },
     "execution_count": 15,
     "metadata": {},
     "output_type": "execute_result"
    }
   ],
   "source": [
    "#| content: valuebox\n",
    "#| title: \"Commits de Estudiantes\"\n",
    "dict(\n",
    "    icon = \"arrow-up\",\n",
    "    color = \"secondary\",\n",
    "    value = project['commit_count']\n",
    ")"
   ]
  },
  {
   "cell_type": "code",
   "execution_count": 16,
   "metadata": {},
   "outputs": [
    {
     "data": {
      "text/plain": [
       "{'icon': 'exclamation', 'color': 'danger', 'value': 4}"
      ]
     },
     "execution_count": 16,
     "metadata": {},
     "output_type": "execute_result"
    }
   ],
   "source": [
    "#| content: valuebox\n",
    "#| title: \"Estudiantes sin commits\"\n",
    "dict(\n",
    "    icon = \"exclamation\",\n",
    "    color = \"danger\",\n",
    "    value = len(project['without_commits'])\n",
    ")"
   ]
  }
 ],
 "metadata": {
  "kernelspec": {
   "display_name": "Python 3",
   "language": "python",
   "name": "python3"
  },
  "language_info": {
   "codemirror_mode": {
    "name": "ipython",
    "version": 3
   },
   "file_extension": ".py",
   "mimetype": "text/x-python",
   "name": "python",
   "nbconvert_exporter": "python",
   "pygments_lexer": "ipython3",
   "version": "3.11.7"
  }
 },
 "nbformat": 4,
 "nbformat_minor": 2
}
